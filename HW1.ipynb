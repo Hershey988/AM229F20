{
 "cells": [
  {
   "cell_type": "markdown",
   "metadata": {},
   "source": [
    "# Problem 1 [35 points] Symmetric positive (semi)definite matrices"
   ]
  },
  {
   "cell_type": "markdown",
   "metadata": {},
   "source": [
    "## (a) [(1+4) + (1+4) = 10 points] Outer product matrix\n",
    "\n",
    "For $x\\in\\mathbb{R}^{n}\\setminus\\{0\\}$, consider the matrix $X = x x^{\\top}$.\n",
    "\n",
    "(i) Is $X\\in\\mathbb{S}_{+}^{n}$? Explain why/why not.\n",
    "\n",
    "(ii) Is $X\\in\\mathbb{S}_{++}^{n}$? Explain why/why not."
   ]
  },
  {
   "cell_type": "markdown",
   "metadata": {},
   "source": [
    "## (b) [(1+4) + (1+4) = 10 points] Copositive matrix\n",
    "\n",
    "Let $\\mathcal{X}$ denote the set of $n\\times n$ real copositive matrices (see Lec. 3, p. 1-2).\n",
    "\n",
    "(i) True or false: $\\mathcal{X} \\subset \\mathbb{S}_{+}^{n}$. Explain your answer.\n",
    "\n",
    "(ii) True or false: $\\mathbb{S}_{+}^{n} \\subset \\mathcal{X}$. Explain your answer."
   ]
  },
  {
   "cell_type": "markdown",
   "metadata": {},
   "source": [
    "## (c) [15 points] Visualizing $\\mathbb{S}_{+}^{2}$\n",
    "\n",
    "Consider $X = \\begin{pmatrix}\n",
    "x & z\\\\\n",
    "z & y\n",
    "\\end{pmatrix} \\in \\mathbb{S}_{+}^{2}$ where $x,y,z$ are scalars. Discretize $x,y$ within appropriate intervals and use your favorite programs such as MATLAB/Python/Julia to visualize $\\mathbb{S}_{+}^{2}$ as a subset of $\\mathbb{R}^{3}$, that is, plot it as a three dimensional set.\n",
    "\n",
    "**Insert** the plot in the notebook. **Submit your code in the zip file** so that we can reproduce your plot.\n",
    "\n",
    "(**Hint:** consider the principal minor characterization from Lec. 3, p. 18-20)"
   ]
  },
  {
   "cell_type": "markdown",
   "metadata": {},
   "source": [
    "\n",
    "# Problem 2 [5 x 6 = 30 points] Vector unit norm balls\n",
    "\n",
    "For any fixed $p$ satisfying $0\\leq p \\leq \\infty$, the vector unit $p$-norm ball is a set\n",
    "\n",
    "$$ \\{x\\in\\mathbb{R}^{n} : \\|x\\|_{p} \\leq 1\\} \\subset \\mathbb{R}^{n}.$$\n",
    "\n",
    "Clealry, the above set is centered at the origin. For the definition of vector $p$-norm, see Lec. 3, p. 5 .\n",
    "\n",
    "The following plot shows the **two dimensional** $p$-norm balls for $p\\in\\{0.5,1,1.5,2,3.5,\\infty\\}$ (from left to right, top to bottom).\n",
    "<img src=\"2DVectorUnitNormBalls.png\">\n",
    "\n",
    "Use your favorite programs such as MATLAB/Python/Julia to plot the **three dimensional** $p$-norm balls for the same $p$ as above. **Insert** the plot in the notebook. **Submit your code in the zip file** so that we can reproduce your plot."
   ]
  },
  {
   "cell_type": "markdown",
   "metadata": {},
   "source": [
    "# Problem 3 [35 points] Schatten $p$-norm of a matrix"
   ]
  },
  {
   "cell_type": "markdown",
   "metadata": {},
   "source": [
    "In Lec. 3, p. 6-8, we discussed the **induced** $p$-norm of any matrix $X\\in\\mathbb{R}^{m\\times n}$. A different way to define matrix norm is to simply consider the $p$-norm of the vector comprising of the singular values of $X$. \n",
    "\n",
    "Specifically, the **Schatten** $p$-norm of a matrix $X\\in\\mathbb{R}^{m\\times n}$ is\n",
    "\n",
    "$$\\|X\\|_{\\text{Schatten}\\;p} := \\left(\\displaystyle\\sum_{i=1}^{\\min\\{m,n\\}}\\left(\\sigma_{i}(X)\\right)^{p}\\right)^{1/p}.$$\n",
    "\n",
    "In other words, if we define a vector $\\sigma := (\\sigma_1, ..., \\sigma_{\\min\\{m,n\\}})$, then $\\|X\\|_{\\text{Schatten}\\;p} = \\|\\sigma\\|_{p}$."
   ]
  },
  {
   "cell_type": "markdown",
   "metadata": {},
   "source": [
    "## (a) [10 points] Schatten 2-norm\n",
    "\n",
    "Prove that $\\|X\\|_{\\text{Schatten}\\;2} = \\|X\\|_{\\text{F}}$, the Frobenius norm (see Lec. 3, p. 9 bottom)."
   ]
  },
  {
   "cell_type": "markdown",
   "metadata": {},
   "source": [
    "## (b) [10 points] Schatten $\\infty$-norm\n",
    "\n",
    "Prove that $\\|X\\|_{\\text{Schatten}\\;\\infty} = \\|X\\|_{\\text{Induced}\\;2}$, the spectral norm (see Lec. 3, p. 8 bottom)."
   ]
  },
  {
   "cell_type": "markdown",
   "metadata": {},
   "source": [
    "## (c) [10 points] Schatten 1-norm\n",
    "\n",
    "Prove that if $X\\in\\mathbb{S}^{n}_{+}$, then $\\|X\\|_{\\text{Schatten}\\;1} = \\text{trace}(X)$. \n",
    "\n",
    "**Remark:** Schatten 1-norm is also called the nuclear norm, and is extremely important in convex optimization. We will learn more about it later in this course."
   ]
  },
  {
   "cell_type": "markdown",
   "metadata": {},
   "source": [
    "## (d) [1+4 = 5 points] Schatten 0-norm\n",
    "\n",
    "The vector $0$-norm is defined as the cardinality (that is, number of nonzero entries) of the vector. \n",
    "\n",
    "**What is the interpretation** of Schatten 0-norm $\\|\\sigma\\|_{0}$? **Explain** your answer."
   ]
  }
 ],
 "metadata": {
  "kernelspec": {
   "display_name": "Python 2",
   "language": "python",
   "name": "python2"
  },
  "language_info": {
   "codemirror_mode": {
    "name": "ipython",
    "version": 2
   },
   "file_extension": ".py",
   "mimetype": "text/x-python",
   "name": "python",
   "nbconvert_exporter": "python",
   "pygments_lexer": "ipython2",
   "version": "2.7.16"
  }
 },
 "nbformat": 4,
 "nbformat_minor": 2
}
